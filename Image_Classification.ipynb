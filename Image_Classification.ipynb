{
  "nbformat": 4,
  "nbformat_minor": 0,
  "metadata": {
    "colab": {
      "provenance": [],
      "authorship_tag": "ABX9TyPr1OrSLIz6nXHyncKWssch",
      "include_colab_link": true
    },
    "kernelspec": {
      "name": "python3",
      "display_name": "Python 3"
    },
    "language_info": {
      "name": "python"
    }
  },
  "cells": [
    {
      "cell_type": "markdown",
      "metadata": {
        "id": "view-in-github",
        "colab_type": "text"
      },
      "source": [
        "<a href=\"https://colab.research.google.com/github/Amnariaz640/Pytorch-/blob/main/Image_Classification.ipynb\" target=\"_parent\"><img src=\"https://colab.research.google.com/assets/colab-badge.svg\" alt=\"Open In Colab\"/></a>"
      ]
    },
    {
      "cell_type": "code",
      "execution_count": 1,
      "metadata": {
        "id": "JqMsHMbb64pu"
      },
      "outputs": [],
      "source": [
        "import numpy as np\n",
        "from PIL import Image\n",
        "\n",
        "import torch\n",
        "import torch.nn as nn\n",
        "import torch.nn.functional as F\n",
        "import torch.optim as optim\n",
        "\n",
        "import torchvision\n",
        "import torchvision.transforms as transforms"
      ]
    },
    {
      "cell_type": "code",
      "source": [
        "transform = transforms.Compose([\n",
        "    transforms.ToTensor(),\n",
        "    transforms.Normalize(mean=[0.5, 0.5, 0.5], std=[0.5, 0.5, 0.5]),\n",
        "])"
      ],
      "metadata": {
        "id": "oF9SQfYJ8QZz"
      },
      "execution_count": 2,
      "outputs": []
    },
    {
      "cell_type": "code",
      "source": [
        "train_data = torchvision.datasets.CIFAR10(root='/Classification_data', train=True, download=True, transform=transform)\n",
        "test_data = torchvision.datasets.CIFAR10(root='/Classification_data', train=False, download=True, transform=transform)\n",
        "\n",
        "train_loader = torch.utils.data.DataLoader(train_data, batch_size=32, shuffle=True, num_workers=2)\n",
        "test_loader = torch.utils.data.DataLoader(test_data, batch_size=32, shuffle=True, num_workers=2)"
      ],
      "metadata": {
        "colab": {
          "base_uri": "https://localhost:8080/"
        },
        "id": "B7eRh9zO8YdA",
        "outputId": "07e6ce43-e7f3-4281-ec9d-8f4182781566"
      },
      "execution_count": 3,
      "outputs": [
        {
          "output_type": "stream",
          "name": "stdout",
          "text": [
            "Files already downloaded and verified\n",
            "Files already downloaded and verified\n"
          ]
        }
      ]
    },
    {
      "cell_type": "code",
      "source": [
        "image, label = train_data[0]"
      ],
      "metadata": {
        "id": "06fhv_gf8rSf"
      },
      "execution_count": 4,
      "outputs": []
    },
    {
      "cell_type": "code",
      "source": [
        "image.size()"
      ],
      "metadata": {
        "colab": {
          "base_uri": "https://localhost:8080/"
        },
        "id": "zolU5_9l9iZ6",
        "outputId": "38591f53-9e9e-4bf7-a204-409afb9b1e20"
      },
      "execution_count": 5,
      "outputs": [
        {
          "output_type": "execute_result",
          "data": {
            "text/plain": [
              "torch.Size([3, 32, 32])"
            ]
          },
          "metadata": {},
          "execution_count": 5
        }
      ]
    },
    {
      "cell_type": "code",
      "source": [
        "class_names = ['airplane', 'automobile', 'bird', 'cat', 'deer', 'dog', 'frog', 'horse', 'ship', 'truck']"
      ],
      "metadata": {
        "id": "tqBBSR_z9-pM"
      },
      "execution_count": 6,
      "outputs": []
    },
    {
      "cell_type": "code",
      "source": [
        "class NeuralNet(nn.Module):\n",
        "  def __init__(self):\n",
        "    super().__init__()\n",
        "    self.conv1 = nn.Conv2d(3, 16, 5)\n",
        "    self.pool = nn.MaxPool2d(2,2)\n",
        "    self.conv2 = nn.Conv2d(16, 32, 5)\n",
        "    self.fc1 = nn.Linear(32*5*5, 120)\n",
        "    self.fc2 = nn.Linear(120, 84)\n",
        "    self.fc3 = nn.Linear(84,10)\n",
        "\n",
        "  def forward(self, x):\n",
        "     x = F.relu(F.max_pool2d(self.conv1(x), 2))\n",
        "     x = F.relu(F.max_pool2d(self.conv2(x), 2))\n",
        "     x = x.view(-1, self.num_flat_features(x))  # Flatten the tensor\n",
        "     x = F.relu(self.fc1(x))\n",
        "     x = F.relu(self.fc2(x))\n",
        "     x = self.fc3(x)\n",
        "     return x\n",
        "\n",
        "  def num_flat_features(self, x):\n",
        "        size = x.size()[1:]  # All dimensions except batch dimension\n",
        "        num_features = 1\n",
        "        for s in size:\n",
        "            num_features *= s\n",
        "        return num_features"
      ],
      "metadata": {
        "id": "jkoaQhgQ_U0W"
      },
      "execution_count": 25,
      "outputs": []
    },
    {
      "cell_type": "code",
      "source": [
        "net = NeuralNet()\n",
        "loss = nn.CrossEntropyLoss()\n",
        "optimizer = optim.SGD(net.parameters(), lr =0.01, momentum = 0.9)"
      ],
      "metadata": {
        "id": "wTpBV62UD7Ol"
      },
      "execution_count": 27,
      "outputs": []
    },
    {
      "cell_type": "code",
      "source": [
        "for epoch in range(30):\n",
        "    print(f'Training Epoch {epoch + 1}')\n",
        "    running_loss = 0.0\n",
        "    for i, data in enumerate(train_loader, 0):\n",
        "        # Get the inputs and labels from the dataloader\n",
        "        inputs, labels = data\n",
        "\n",
        "        # Zero the parameter gradients\n",
        "        optimizer.zero_grad()\n",
        "\n",
        "        # Forward pass\n",
        "        outputs = net(inputs)\n",
        "\n",
        "        # Compute the loss\n",
        "        loss_value = loss(outputs, labels)  # Use `loss` here to compute the loss\n",
        "\n",
        "        # Backward pass and optimize\n",
        "        loss_value.backward()\n",
        "        optimizer.step()\n",
        "\n",
        "        # Accumulate the running loss\n",
        "        running_loss += loss_value.item()\n",
        "\n",
        "    # Print average loss for the epoch\n",
        "    print(f' Loss: {running_loss / len(train_loader):.4f}')"
      ],
      "metadata": {
        "colab": {
          "base_uri": "https://localhost:8080/"
        },
        "id": "L77A0ApuFvwn",
        "outputId": "8483aec9-4fe6-4138-88ce-323f98f2d933"
      },
      "execution_count": 28,
      "outputs": [
        {
          "output_type": "stream",
          "name": "stdout",
          "text": [
            "Training Epoch 1\n",
            " Loss: 1.6320\n",
            "Training Epoch 2\n",
            " Loss: 1.1942\n",
            "Training Epoch 3\n",
            " Loss: 1.0125\n",
            "Training Epoch 4\n",
            " Loss: 0.9045\n",
            "Training Epoch 5\n",
            " Loss: 0.8190\n",
            "Training Epoch 6\n",
            " Loss: 0.7557\n",
            "Training Epoch 7\n",
            " Loss: 0.7013\n",
            "Training Epoch 8\n",
            " Loss: 0.6578\n",
            "Training Epoch 9\n",
            " Loss: 0.6187\n",
            "Training Epoch 10\n",
            " Loss: 0.5746\n",
            "Training Epoch 11\n",
            " Loss: 0.5508\n",
            "Training Epoch 12\n",
            " Loss: 0.5317\n",
            "Training Epoch 13\n",
            " Loss: 0.4967\n",
            "Training Epoch 14\n",
            " Loss: 0.4854\n",
            "Training Epoch 15\n",
            " Loss: 0.4755\n",
            "Training Epoch 16\n",
            " Loss: 0.4534\n",
            "Training Epoch 17\n",
            " Loss: 0.4438\n",
            "Training Epoch 18\n",
            " Loss: 0.4363\n",
            "Training Epoch 19\n",
            " Loss: 0.4152\n",
            "Training Epoch 20\n",
            " Loss: 0.4102\n",
            "Training Epoch 21\n",
            " Loss: 0.4100\n",
            "Training Epoch 22\n",
            " Loss: 0.4167\n",
            "Training Epoch 23\n",
            " Loss: 0.4080\n",
            "Training Epoch 24\n",
            " Loss: 0.4148\n",
            "Training Epoch 25\n",
            " Loss: 0.3760\n",
            "Training Epoch 26\n",
            " Loss: 0.4031\n",
            "Training Epoch 27\n",
            " Loss: 0.4070\n",
            "Training Epoch 28\n",
            " Loss: 0.4165\n",
            "Training Epoch 29\n",
            " Loss: 0.4018\n",
            "Training Epoch 30\n",
            " Loss: 0.3972\n"
          ]
        }
      ]
    },
    {
      "cell_type": "code",
      "source": [
        "torch.save(net.state_dict(), 'trained.pth')"
      ],
      "metadata": {
        "id": "3nRVt4tKJkyQ"
      },
      "execution_count": 29,
      "outputs": []
    },
    {
      "cell_type": "code",
      "source": [
        "net = NeuralNet()\n",
        "net.load_state_dict (torch.load('trained.pth'))"
      ],
      "metadata": {
        "colab": {
          "base_uri": "https://localhost:8080/"
        },
        "id": "wnF1QpkwJ0yD",
        "outputId": "4f9a6be7-ffde-4696-9ddc-027bc64cfc69"
      },
      "execution_count": 30,
      "outputs": [
        {
          "output_type": "stream",
          "name": "stderr",
          "text": [
            "<ipython-input-30-4f777d5cbf82>:2: FutureWarning: You are using `torch.load` with `weights_only=False` (the current default value), which uses the default pickle module implicitly. It is possible to construct malicious pickle data which will execute arbitrary code during unpickling (See https://github.com/pytorch/pytorch/blob/main/SECURITY.md#untrusted-models for more details). In a future release, the default value for `weights_only` will be flipped to `True`. This limits the functions that could be executed during unpickling. Arbitrary objects will no longer be allowed to be loaded via this mode unless they are explicitly allowlisted by the user via `torch.serialization.add_safe_globals`. We recommend you start setting `weights_only=True` for any use case where you don't have full control of the loaded file. Please open an issue on GitHub for any issues related to this experimental feature.\n",
            "  net.load_state_dict (torch.load('trained.pth'))\n"
          ]
        },
        {
          "output_type": "execute_result",
          "data": {
            "text/plain": [
              "<All keys matched successfully>"
            ]
          },
          "metadata": {},
          "execution_count": 30
        }
      ]
    },
    {
      "cell_type": "code",
      "source": [
        "correct = 0\n",
        "total  = 0\n",
        "net.eval()\n",
        "\n",
        "with torch.no_grad():\n",
        "  for data in test_loader:\n",
        "    images, labels = data\n",
        "    outputs = net(images)\n",
        "    _, predicted = torch.max(outputs.data,1)\n",
        "    total += labels.size(0)\n",
        "    correct+= (predicted == labels).sum().item()\n",
        "accuracy = 100 * correct / total\n",
        "print(f'Accuracy: {accuracy}%')"
      ],
      "metadata": {
        "colab": {
          "base_uri": "https://localhost:8080/"
        },
        "id": "CiO7iFjKKB_9",
        "outputId": "4c4a7d39-ac8e-4900-eee2-67515f748dd5"
      },
      "execution_count": 31,
      "outputs": [
        {
          "output_type": "stream",
          "name": "stdout",
          "text": [
            "Accuracy: 65.85%\n"
          ]
        }
      ]
    },
    {
      "cell_type": "code",
      "source": [
        "new_transform = transforms.Compose([\n",
        "    transforms.Resize((32,32)),\n",
        "    transforms.ToTensor(),\n",
        "    transforms.Normalize(mean=[0.5, 0.5, 0.5], std=[0.5, 0.5, 0.5])\n",
        "])\n",
        "\n",
        "def load_image(image_path):\n",
        "    image = Image.open(image_path)\n",
        "    image = new_transform(image)\n",
        "    image = image.unsqueeze(0) # Correct the typo here\n",
        "    return image\n",
        "\n",
        "\n",
        "image_paths = ['pic5.jfif']\n",
        "images = [load_image(img) for img in image_paths]\n",
        "\n",
        "net = NeuralNet()\n",
        "net.load_state_dict(torch.load('trained.pth', map_location=torch.device('cpu'), weights_only=True))  # Load weights only\n",
        "net.eval()\n",
        "with torch.no_grad():\n",
        "  for image in images:\n",
        "    output = net(image)\n",
        "    _, predicted = torch.max(output.data, 1)\n",
        "    print(f'Prediction: {class_names[predicted.item()]}')\n"
      ],
      "metadata": {
        "colab": {
          "base_uri": "https://localhost:8080/"
        },
        "id": "kNFT6tKeoHFg",
        "outputId": "fccd66e9-b566-41f8-f9e5-88d3de70dc49"
      },
      "execution_count": 49,
      "outputs": [
        {
          "output_type": "stream",
          "name": "stdout",
          "text": [
            "Prediction: bird\n"
          ]
        }
      ]
    }
  ]
}