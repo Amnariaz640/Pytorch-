{
  "nbformat": 4,
  "nbformat_minor": 0,
  "metadata": {
    "colab": {
      "provenance": [],
      "authorship_tag": "ABX9TyMfy1mq8muw7ZWQeil1qy2d",
      "include_colab_link": true
    },
    "kernelspec": {
      "name": "python3",
      "display_name": "Python 3"
    },
    "language_info": {
      "name": "python"
    }
  },
  "cells": [
    {
      "cell_type": "markdown",
      "metadata": {
        "id": "view-in-github",
        "colab_type": "text"
      },
      "source": [
        "<a href=\"https://colab.research.google.com/github/Amnariaz640/Pytorch-/blob/main/Image_Classification.ipynb\" target=\"_parent\"><img src=\"https://colab.research.google.com/assets/colab-badge.svg\" alt=\"Open In Colab\"/></a>"
      ]
    },
    {
      "cell_type": "code",
      "execution_count": 16,
      "metadata": {
        "id": "JqMsHMbb64pu"
      },
      "outputs": [],
      "source": [
        "import numpy as np\n",
        "from PIL import Image\n",
        "\n",
        "import torch\n",
        "import torch.nn as nn\n",
        "import torch.nn.functional as F\n",
        "import torch.optim as optim\n",
        "\n",
        "import torchvision\n",
        "import torchvision.transforms as transforms\n",
        "\n",
        "import pandas as pd\n",
        "import matplotlib.pyplot as plt\n",
        "%matplotlib inline"
      ]
    },
    {
      "cell_type": "code",
      "source": [
        "transform = transforms.Compose([\n",
        "    transforms.ToTensor(),\n",
        "    transforms.Normalize(mean=[0.5, 0.5, 0.5], std=[0.5, 0.5, 0.5]),\n",
        "])"
      ],
      "metadata": {
        "id": "oF9SQfYJ8QZz"
      },
      "execution_count": 2,
      "outputs": []
    },
    {
      "cell_type": "code",
      "source": [
        "train_data = torchvision.datasets.CIFAR10(root='/Classification_data', train=True, download=True, transform=transform)\n",
        "test_data = torchvision.datasets.CIFAR10(root='/Classification_data', train=False, download=True, transform=transform)\n",
        "\n",
        "train_loader = torch.utils.data.DataLoader(train_data, batch_size=32, shuffle=True, num_workers=2)\n",
        "test_loader = torch.utils.data.DataLoader(test_data, batch_size=32, shuffle=True, num_workers=2)"
      ],
      "metadata": {
        "colab": {
          "base_uri": "https://localhost:8080/"
        },
        "id": "B7eRh9zO8YdA",
        "outputId": "8a3b62ce-215f-4993-d8a2-59064b533a8b"
      },
      "execution_count": 3,
      "outputs": [
        {
          "output_type": "stream",
          "name": "stdout",
          "text": [
            "Downloading https://www.cs.toronto.edu/~kriz/cifar-10-python.tar.gz to /Classification_data/cifar-10-python.tar.gz\n"
          ]
        },
        {
          "output_type": "stream",
          "name": "stderr",
          "text": [
            "100%|██████████| 170498071/170498071 [00:10<00:00, 16352228.10it/s]\n"
          ]
        },
        {
          "output_type": "stream",
          "name": "stdout",
          "text": [
            "Extracting /Classification_data/cifar-10-python.tar.gz to /Classification_data\n",
            "Files already downloaded and verified\n"
          ]
        }
      ]
    },
    {
      "cell_type": "code",
      "source": [
        "image, label = train_data[0]"
      ],
      "metadata": {
        "id": "06fhv_gf8rSf"
      },
      "execution_count": 4,
      "outputs": []
    },
    {
      "cell_type": "code",
      "source": [
        "image.size()"
      ],
      "metadata": {
        "colab": {
          "base_uri": "https://localhost:8080/"
        },
        "id": "zolU5_9l9iZ6",
        "outputId": "ebea497b-8ff8-44bd-cb5e-1c6d36f5d473"
      },
      "execution_count": 5,
      "outputs": [
        {
          "output_type": "execute_result",
          "data": {
            "text/plain": [
              "torch.Size([3, 32, 32])"
            ]
          },
          "metadata": {},
          "execution_count": 5
        }
      ]
    },
    {
      "cell_type": "code",
      "source": [
        "class_names = ['plane', 'automobile', 'bird', 'cat', 'deer', 'dog', 'frog', 'horse', 'ship', 'truck']"
      ],
      "metadata": {
        "id": "tqBBSR_z9-pM"
      },
      "execution_count": 7,
      "outputs": []
    },
    {
      "cell_type": "code",
      "source": [
        "class NeuralNet(nn.Module):\n",
        "  def __init__(self):\n",
        "    super().__init__()\n",
        "    self.conv1 = nn.Conv2d(3, 16, 5)\n",
        "    self.pool = nn.MaxPool2d(2,2)\n",
        "    self.conv2 = nn.Conv2d(16, 32, 5)\n",
        "    self.fc1 = nn.Linear(32*5*5, 120)\n",
        "    self.fc2 = nn.Linear(120, 84)\n",
        "    self.fc3 = nn.Linear(84,10)\n",
        "\n",
        "  def forward(self, x):\n",
        "     x = F.relu(F.max_pool2d(self.conv1(x), 2))\n",
        "     x = F.relu(F.max_pool2d(self.conv2(x), 2))\n",
        "     x = x.view(-1, self.num_flat_features(x))  # Flatten the tensor\n",
        "     x = F.relu(self.fc1(x))\n",
        "     x = F.relu(self.fc2(x))\n",
        "     x = self.fc3(x)\n",
        "     return x\n",
        "\n",
        "  def num_flat_features(self, x):\n",
        "        size = x.size()[1:]  # All dimensions except batch dimension\n",
        "        num_features = 1\n",
        "        for s in size:\n",
        "            num_features *= s\n",
        "        return num_features"
      ],
      "metadata": {
        "id": "jkoaQhgQ_U0W"
      },
      "execution_count": 24,
      "outputs": []
    },
    {
      "cell_type": "code",
      "source": [
        "net = NeuralNet()\n",
        "loss = nn.CrossEntropyLoss()\n",
        "optimizer = optim.SGD(net.parameters(), lr =0.01, momentum = 0.9)"
      ],
      "metadata": {
        "id": "wTpBV62UD7Ol"
      },
      "execution_count": 9,
      "outputs": []
    },
    {
      "cell_type": "code",
      "source": [
        "for epoch in range(15):\n",
        "    print(f'Training Epoch {epoch + 1}')\n",
        "    running_loss = 0.0\n",
        "    for i, data in enumerate(train_loader, 0):\n",
        "        # Get the inputs and labels from the dataloader\n",
        "        inputs, labels = data\n",
        "\n",
        "        # Zero the parameter gradients\n",
        "        optimizer.zero_grad()\n",
        "\n",
        "        # Forward pass\n",
        "        outputs = net(inputs)\n",
        "\n",
        "        # Compute the loss\n",
        "        loss_value = loss(outputs, labels)  # Use `loss` here to compute the loss\n",
        "\n",
        "        # Backward pass and optimize\n",
        "        loss_value.backward()\n",
        "        optimizer.step()\n",
        "\n",
        "        # Accumulate the running loss\n",
        "        running_loss += loss_value.item()\n",
        "\n",
        "    # Print average loss for the epoch\n",
        "    print(f' Loss: {running_loss / len(train_loader):.4f}')"
      ],
      "metadata": {
        "colab": {
          "base_uri": "https://localhost:8080/"
        },
        "id": "L77A0ApuFvwn",
        "outputId": "f6323667-14d4-4c7d-da56-dfed858a567e"
      },
      "execution_count": 10,
      "outputs": [
        {
          "output_type": "stream",
          "name": "stdout",
          "text": [
            "Training Epoch 1\n",
            " Loss: 1.6312\n",
            "Training Epoch 2\n",
            " Loss: 1.2002\n",
            "Training Epoch 3\n",
            " Loss: 1.0228\n",
            "Training Epoch 4\n",
            " Loss: 0.9074\n",
            "Training Epoch 5\n",
            " Loss: 0.8279\n",
            "Training Epoch 6\n",
            " Loss: 0.7672\n",
            "Training Epoch 7\n",
            " Loss: 0.7091\n",
            "Training Epoch 8\n",
            " Loss: 0.6615\n",
            "Training Epoch 9\n",
            " Loss: 0.6243\n",
            "Training Epoch 10\n",
            " Loss: 0.5891\n",
            "Training Epoch 11\n",
            " Loss: 0.5614\n",
            "Training Epoch 12\n",
            " Loss: 0.5372\n",
            "Training Epoch 13\n",
            " Loss: 0.5295\n",
            "Training Epoch 14\n",
            " Loss: 0.5034\n",
            "Training Epoch 15\n",
            " Loss: 0.4743\n"
          ]
        }
      ]
    },
    {
      "cell_type": "code",
      "source": [
        "torch.save(net.state_dict(), 'trained.pth')"
      ],
      "metadata": {
        "id": "3nRVt4tKJkyQ"
      },
      "execution_count": 11,
      "outputs": []
    },
    {
      "cell_type": "code",
      "source": [
        "net = NeuralNet()\n",
        "net.load_state_dict(torch.load('trained.pth', weights_only=True))\n"
      ],
      "metadata": {
        "colab": {
          "base_uri": "https://localhost:8080/"
        },
        "id": "wnF1QpkwJ0yD",
        "outputId": "8dcf5233-9e8d-49dc-8179-eb3fe48eaca6"
      },
      "execution_count": 18,
      "outputs": [
        {
          "output_type": "execute_result",
          "data": {
            "text/plain": [
              "<All keys matched successfully>"
            ]
          },
          "metadata": {},
          "execution_count": 18
        }
      ]
    },
    {
      "cell_type": "code",
      "source": [
        "correct = 0\n",
        "total  = 0\n",
        "net.eval()\n",
        "\n",
        "with torch.no_grad():\n",
        "  for data in test_loader:\n",
        "    images, labels = data\n",
        "    outputs = net(images)\n",
        "    _, predicted = torch.max(outputs.data,1)\n",
        "    total += labels.size(0)\n",
        "    correct+= (predicted == labels).sum().item()\n",
        "accuracy = 100 * correct / total\n",
        "print(f'Accuracy: {accuracy}%')"
      ],
      "metadata": {
        "colab": {
          "base_uri": "https://localhost:8080/"
        },
        "id": "CiO7iFjKKB_9",
        "outputId": "c9cd2dfd-375d-4fb2-91af-ab79b64664f5"
      },
      "execution_count": 19,
      "outputs": [
        {
          "output_type": "stream",
          "name": "stdout",
          "text": [
            "Accuracy: 65.95%\n"
          ]
        }
      ]
    },
    {
      "cell_type": "code",
      "source": [
        "# Function to show images with predictions\n",
        "def show_predictions(loader, net, class_names, num_images=10):\n",
        "    net.eval()\n",
        "    dataiter = iter(loader)\n",
        "    images, labels = next(dataiter)\n",
        "\n",
        " # Perform predictions\n",
        "    with torch.no_grad():\n",
        "        outputs = net(images)\n",
        "        _, predicted = torch.max(outputs, 1)\n",
        "\n",
        "    mean = np.array([0.4914, 0.4822, 0.4465])\n",
        "    std = np.array([0.2023, 0.1994, 0.2010])\n",
        "\n",
        "    # Plot images\n",
        "    plt.figure(figsize=(12, 6), dpi=60)\n",
        "    for i in range(num_images):\n",
        "        plt.subplot(2, 5, i + 1)\n",
        "        img = np.transpose(images[i].numpy(), (1, 2, 0))  # Convert from (C, H, W) to (H, W, C)\n",
        "        img = std * img + mean  # Denormalize image\n",
        "        img = np.clip(img, 0, 1)\n",
        "        plt.imshow(img)\n",
        "        plt.title(f'Pred: {class_names[predicted[i]]}\\nTrue: {class_names[labels[i]]}')\n",
        "        plt.axis('off')\n",
        "\n",
        "    plt.show()\n",
        "\n",
        "show_predictions(test_loader, net, class_names, num_images=10)"
      ],
      "metadata": {
        "colab": {
          "base_uri": "https://localhost:8080/",
          "height": 301
        },
        "id": "TEBX1ACU7xm6",
        "outputId": "0e6cdf2c-db5a-4cde-ea08-61f0586b0b7e"
      },
      "execution_count": 33,
      "outputs": [
        {
          "output_type": "display_data",
          "data": {
            "text/plain": [
              "<Figure size 720x360 with 10 Axes>"
            ],
            "image/png": "[encoded data removed]"
          },
          "metadata": {}
        }
      ]
    },
    {
      "cell_type": "code",
      "source": [
        "new_transform = transforms.Compose([\n",
        "    transforms.Resize((32,32)),\n",
        "    transforms.ToTensor(),\n",
        "    transforms.Normalize(mean=[0.5, 0.5, 0.5], std=[0.5, 0.5, 0.5])\n",
        "])\n",
        "\n",
        "def load_image(image_path):\n",
        "    image = Image.open(image_path)\n",
        "    image = new_transform(image)\n",
        "    image = image.unsqueeze(0)\n",
        "    return image\n",
        "\n",
        "\n",
        "image_paths = ['pic1.jpg']\n",
        "images = [load_image(img) for img in image_paths]\n",
        "\n",
        "net = NeuralNet()\n",
        "net.load_state_dict(torch.load('trained.pth', map_location=torch.device('cpu'), weights_only=True))  # Load weights only\n",
        "net.eval()\n",
        "with torch.no_grad():\n",
        "  for image in images:\n",
        "    output = net(image)\n",
        "    _, predicted = torch.max(output.data, 1)\n",
        "    print(f'Prediction: {class_names[predicted.item()]}')\n"
      ],
      "metadata": {
        "colab": {
          "base_uri": "https://localhost:8080/"
        },
        "id": "kNFT6tKeoHFg",
        "outputId": "3ac3ecba-435b-4de4-f989-d39a33fecbea"
      },
      "execution_count": 32,
      "outputs": [
        {
          "output_type": "stream",
          "name": "stdout",
          "text": [
            "Prediction: bird\n"
          ]
        }
      ]
    }
  ]
}